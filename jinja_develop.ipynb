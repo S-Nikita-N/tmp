{
 "cells": [
  {
   "cell_type": "code",
   "execution_count": 6,
   "id": "1f717cdd",
   "metadata": {},
   "outputs": [],
   "source": [
    "from jinja2 import Environment, FileSystemLoader\n",
    "\n",
    "env = Environment(loader=FileSystemLoader('/Users/nikita/Desktop/swe_agent_deploy/problems_scoring'))"
   ]
  },
  {
   "cell_type": "code",
   "execution_count": 15,
   "id": "0f789b17",
   "metadata": {},
   "outputs": [],
   "source": [
    "system = env.get_template('system.jinja')\n",
    "user = env.get_template('user.jinja')"
   ]
  },
  {
   "cell_type": "code",
   "execution_count": 16,
   "id": "c4514aa4",
   "metadata": {},
   "outputs": [
    {
     "name": "stdout",
     "output_type": "stream",
     "text": [
      "# Ты — эксперт по анализу кода и кибербезопасности. Твоя задача — проанализировать предложенный юзером патч и выявить допущенные в нем ошибки и уязвимости.\n",
      "\n",
      "## Ты получишь:\n",
      "1. Техническое задание (ISSUE)\n",
      "2. Исходный патч (GOLD_PATCH) — правильное решение\n",
      "3. Патч, предложенный пользователем (USER_PATCH) — проблемное решение\n",
      "4. Список тестов, которые должны были пройти, но не прошли (FAILED_TO_PASS_failed_tests)\n",
      "5. Список тестов, которые ранее проходили, но теперь падают (PASS_TO_FAIL_failed_tests)\n",
      "6. Логи выполнения тестов (TEST_LOGS)\n",
      "\n",
      "## Твоя задача:\n",
      "1. Сравнить два патча и выявить различия в логике решения\n",
      "2. Проанализировать логи тестов чтобы понять природу ошибок\n",
      "3. Сформулировать четкое описание каждой обнаруженной уязвимости/ошибки из за которых пользовательское решение оказалось провальным.\n",
      "\n",
      "## Правила:\n",
      "1. В описаниях уязвимостей и ошибок должно быть понятно почему ошибка приводит к падению тестов и какое требование из тезнического задания не решает пользовательское решение.\n",
      "2. Чем меньше - тем лучше (Мне хотелось бы чтобы ты выдавал только главную проблему и выдвавал больше одной только если там действительно есть несколько независимых серьезных уязвимостей/ошибок)\n",
      "3. В качестве ответа выдай только список из одной или несколких описаний уязвимостей/ошибок: \n",
      "```json\n",
      "['problem1', 'problem2', ...]\n",
      "```\n",
      "ISSUE:\n",
      "sime issue\n",
      "\n",
      "---------\n",
      "\n",
      "GOLD_PATCH:\n",
      "gpatch\n",
      "\n",
      "---------\n",
      "\n",
      "USER_PATCH:\n",
      "upatch\n",
      "\n",
      "---------\n",
      "\n",
      "FAILED_TO_PASS_failed_tests:\n",
      "```python\n",
      "print(1)\n",
      "```\n",
      "```python\n",
      "import numpy\n",
      "```\n",
      "\n",
      "---------\n",
      "\n",
      "PASS_TO_PASS_failed_tests:\n",
      "```python\n",
      "print(222)\n",
      "```\n",
      "```python\n",
      "import pandas\n",
      " pd.DataFrame([1,2])\n",
      "```\n",
      "\n",
      "---------\n",
      "\n",
      "TEST_LOGS:\n",
      "hi\n",
      "end\n"
     ]
    }
   ],
   "source": [
    "data = {\n",
    "    'issue' : 'sime issue',\n",
    "    'gold_patch': 'gpatch',\n",
    "    'user_patch': 'upatch',\n",
    "    'failed_to_pass': ['print(1)', 'import numpy'],\n",
    "    'pass_to_pass': ['print(222)', 'import pandas\\n pd.DataFrame([1,2])'],\n",
    "    'logs': 'hi\\nend'\n",
    "\n",
    "}\n",
    "print(system.render(**data))\n",
    "print(user.render(**data))\n"
   ]
  },
  {
   "cell_type": "code",
   "execution_count": null,
   "id": "be35399b",
   "metadata": {},
   "outputs": [],
   "source": []
  },
  {
   "cell_type": "code",
   "execution_count": null,
   "id": "9b1e96b9",
   "metadata": {},
   "outputs": [],
   "source": []
  }
 ],
 "metadata": {
  "kernelspec": {
   "display_name": "agent_env",
   "language": "python",
   "name": "python3"
  },
  "language_info": {
   "codemirror_mode": {
    "name": "ipython",
    "version": 3
   },
   "file_extension": ".py",
   "mimetype": "text/x-python",
   "name": "python",
   "nbconvert_exporter": "python",
   "pygments_lexer": "ipython3",
   "version": "3.12.5"
  }
 },
 "nbformat": 4,
 "nbformat_minor": 5
}
